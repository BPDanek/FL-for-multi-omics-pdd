{
 "cells": [
  {
   "cell_type": "markdown",
   "metadata": {},
   "source": [
    "### Tutorial 01 - Python Package Installation"
   ]
  },
  {
   "cell_type": "markdown",
   "metadata": {},
   "source": [
    "Utilizing machine learning in medical and scientific research has become extremely important as ML allows large-scale data analysis. ML thrives with large-scale datasets, and there is a massive demand to use multi-ancestry data for medical research. Still, it is a complex problem, as many countries and organizations have strict data-sharing regulations. These regulations are necessary to protect patients, so we need another safe way to conduct essential medical and scientific research. Federated Learning is one of the new emerging machine learning methods to overcome this limited data access problem. In the most basic terms, federated learning enables training machine learning models without the raw data leaving the origin system, allowing researchers worldwide to collaborate while ensuring the protection of patients' data."
   ]
  },
  {
   "cell_type": "markdown",
   "metadata": {},
   "source": [
    "Our group recently published work on this topic using Parkinson's Disease data: https://www.biorxiv.org/content/10.1101/2023.10.04.560604v1. We created this tutorial series for you to follow along with our work and recreate the data used for this preprint. Assuming that you have already cloned the GitHub repository, let us first finish the installation of our Python package."
   ]
  },
  {
   "cell_type": "code",
   "execution_count": null,
   "metadata": {},
   "outputs": [],
   "source": [
    "! ls ../../"
   ]
  },
  {
   "cell_type": "markdown",
   "metadata": {},
   "source": [
    "Using the environment.yml in the GitHub repository's parent directory, we can create a new conda environment with Python packages essential to run our code.  You may skip this step if you already created one using the instructions from the GitHub repository's front page. If you have not done so, please run the code below. The file path for this code is based on the assumption that you will be running this code in the tutorial directory."
   ]
  },
  {
   "cell_type": "code",
   "execution_count": null,
   "metadata": {},
   "outputs": [],
   "source": [
    "! conda env create -f ../../environment.yml -n multi_omics_pdd_fl"
   ]
  },
  {
   "cell_type": "markdown",
   "metadata": {},
   "source": [
    "All of the further tutorial notebooks will be based on this conda environment multi_omics_pdd_fl. To activate it on the terminal, you can run the following:"
   ]
  },
  {
   "cell_type": "markdown",
   "metadata": {},
   "source": [
    "conda activate multi_omics_pdd_fl"
   ]
  },
  {
   "cell_type": "markdown",
   "metadata": {},
   "source": [
    "If you are using Jupyter Lab, VS Code, or other IDEs, there will be a way to select your conda environment within your IDE."
   ]
  },
  {
   "cell_type": "markdown",
   "metadata": {},
   "source": [
    "After you activate a conda environment, you can use the setup.py file and pip install -e to install the package in editable mode."
   ]
  },
  {
   "cell_type": "code",
   "execution_count": null,
   "metadata": {},
   "outputs": [],
   "source": [
    "! pip install -e ../../"
   ]
  },
  {
   "cell_type": "markdown",
   "metadata": {},
   "source": [
    "In the next tutorial notebook, we will see how the rest of the GitHub repo is structured and where the code Python scripts are stored."
   ]
  }
 ],
 "metadata": {
  "kernelspec": {
   "display_name": "base",
   "language": "python",
   "name": "python3"
  },
  "language_info": {
   "codemirror_mode": {
    "name": "ipython",
    "version": 3
   },
   "file_extension": ".py",
   "mimetype": "text/x-python",
   "name": "python",
   "nbconvert_exporter": "python",
   "pygments_lexer": "ipython3",
   "version": "3.10.12"
  },
  "orig_nbformat": 4
 },
 "nbformat": 4,
 "nbformat_minor": 2
}
