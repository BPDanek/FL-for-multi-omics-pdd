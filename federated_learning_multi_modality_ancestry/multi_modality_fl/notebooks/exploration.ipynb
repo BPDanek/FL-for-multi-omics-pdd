{
 "cells": [
  {
   "cell_type": "code",
   "execution_count": null,
   "id": "1d8f12de",
   "metadata": {},
   "outputs": [],
   "source": [
    "# File exploring the provided datasets from the paper: https://www.nature.com/articles/s41531-022-00288-w"
   ]
  },
  {
   "cell_type": "code",
   "execution_count": null,
   "id": "53a42d54",
   "metadata": {},
   "outputs": [],
   "source": [
    "import sys\n",
    "import os\n",
    "sys.path.append(os.path.abspath('..'))\n",
    "import pandas as pd"
   ]
  },
  {
   "cell_type": "code",
   "execution_count": null,
   "id": "061fc47e",
   "metadata": {},
   "outputs": [],
   "source": [
    "from multi_modality_fl.utils.data_management import BASE_PATH, DATASETS, drop_id, get_h5_data_keys"
   ]
  },
  {
   "cell_type": "code",
   "execution_count": null,
   "id": "ee031a3c",
   "metadata": {
    "scrolled": false
   },
   "outputs": [],
   "source": [
    "def print_tables(base_path, name, path_postfix):\n",
    "    file_path = os.path.join(base_path, path_postfix)\n",
    "    keys = get_h5_data_keys(file_path)\n",
    "    for k in keys:\n",
    "        table = drop_id(pd.read_hdf(file_path, key=k))\n",
    "        print(\"\\n\", \"-\"*100, \"\\n\")\n",
    "        print(f'name: {name}, table: {k}, path: {file_path}')\n",
    "        display(table)\n",
    "        display(table.describe())\n",
    "        if'PHENO' in table.columns:\n",
    "            print(table['PHENO'].value_counts())\n",
    "\n",
    "for name, path_postfix in DATASETS.items():\n",
    "    print_tables(BASE_PATH, name, path_postfix)"
   ]
  }
 ],
 "metadata": {
  "kernelspec": {
   "display_name": "nih_fl",
   "language": "python",
   "name": "python3"
  },
  "language_info": {
   "codemirror_mode": {
    "name": "ipython",
    "version": 3
   },
   "file_extension": ".py",
   "mimetype": "text/x-python",
   "name": "python",
   "nbconvert_exporter": "python",
   "pygments_lexer": "ipython3",
   "version": "3.10.12"
  }
 },
 "nbformat": 4,
 "nbformat_minor": 5
}
