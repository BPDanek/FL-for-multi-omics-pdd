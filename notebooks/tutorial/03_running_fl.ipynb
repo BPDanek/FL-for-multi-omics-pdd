{
 "cells": [
  {
   "cell_type": "markdown",
   "metadata": {},
   "source": [
    "### Tutorial 03 - Running Federated Learning"
   ]
  },
  {
   "cell_type": "markdown",
   "metadata": {},
   "source": [
    "In this tutorial notebook, we will perform federated learning using data already created by reproducing the processing approach from:.\n",
    "\n",
    "```\n",
    "Makarious, M.B., Leonard, H.L., Vitale, D. et al. Multi-modality machine learning predicting Parkinson’s disease. npj Parkinsons Dis. 8, 35 (2022). https://doi.org/10.1038/s41531-022-00288-w\n",
    "```\n",
    "\n",
    "Available publicly at: https://github.com/GenoML/GenoML_multimodal_PD/\n",
    "\n",
    "NOTE: Activate conda environment by either running \"conda activate multi_omics_pdd_fl\" on the terminal or using IDE's environment selection."
   ]
  },
  {
   "cell_type": "markdown",
   "metadata": {},
   "source": [
    "The wrapper file to run federated learning is run_experiments.py, which is located inside the experiment_runner directory."
   ]
  },
  {
   "cell_type": "code",
   "execution_count": null,
   "metadata": {},
   "outputs": [],
   "source": [
    "! ls ../../federated_learning_multi_modality_ancestry/multi_modality_fl/experiment_runner"
   ]
  },
  {
   "cell_type": "markdown",
   "metadata": {},
   "source": [
    "Finally, running this line below will perform federated learning."
   ]
  },
  {
   "cell_type": "code",
   "execution_count": null,
   "metadata": {},
   "outputs": [],
   "source": [
    "! python ../../federated_learning_multi_modality_ancestry/multi_modality_fl/experiment_runner/run_experiments.py -d \"../../data\""
   ]
  }
 ],
 "metadata": {
  "kernelspec": {
   "display_name": "multi_omics_pdd_fl",
   "language": "python",
   "name": "python3"
  },
  "language_info": {
   "codemirror_mode": {
    "name": "ipython",
    "version": 3
   },
   "file_extension": ".py",
   "mimetype": "text/x-python",
   "name": "python",
   "nbconvert_exporter": "python",
   "pygments_lexer": "ipython3",
   "version": "3.10.12"
  },
  "orig_nbformat": 4
 },
 "nbformat": 4,
 "nbformat_minor": 2
}
