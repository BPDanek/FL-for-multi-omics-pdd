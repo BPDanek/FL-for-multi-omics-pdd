{
 "cells": [
  {
   "cell_type": "markdown",
   "metadata": {},
   "source": [
    "Utilizing machine learning in medical and scientific research has become extremely important as ML allows the analysis of large-scale data that humans need help with. ML requires large-scale datasets, and there's a massive demand to use multi-ancestry data for medical research. Still, it's a complex problem, as many countries and organizations have strict data-sharing regulations. These regulations are necessary to protect patients, so we need another safe way to conduct essential medical and scientific research. Federated Learning is one of the new emerging methods in machine learning to overcome this problem of limited data access. In the most basic terms, federated learning enables training machine learning models without the raw data leaving the origin system, allowing researchers worldwide to collaborate while ensuring the protection of patients' data."
   ]
  },
  {
   "cell_type": "markdown",
   "metadata": {},
   "source": [
    "Our group recently published work on this topic using Parkinson's Disease data: https://www.biorxiv.org/content/10.1101/2023.10.04.560604v1. This tutorial was created for you to follow along our work and recreate the data that was used for this preprint."
   ]
  },
  {
   "cell_type": "markdown",
   "metadata": {},
   "source": [
    "Assuming that you've already cloned the GitHub repository, let's first examine how the GitHub repository is structured."
   ]
  },
  {
   "cell_type": "code",
   "execution_count": 1,
   "metadata": {},
   "outputs": [
    {
     "name": "stdout",
     "output_type": "stream",
     "text": [
      "LICENSE\n",
      "README.md\n",
      "\u001b[34mdata\u001b[m\u001b[m\n",
      "environment.yml\n",
      "features.csv\n",
      "\u001b[34mfederated_learning_multi_modality_ancestry\u001b[m\u001b[m\n",
      "\u001b[34mnotebooks\u001b[m\u001b[m\n",
      "\u001b[34mreports\u001b[m\u001b[m\n",
      "setup.py\n"
     ]
    }
   ],
   "source": [
    "! ls ../../"
   ]
  },
  {
   "cell_type": "markdown",
   "metadata": {},
   "source": [
    "Using the environment.yml, we can create a new conda environment with Python packages that are essential to run our code. If you haven't done so already, please run the code below in your terminal. The file path is based on the assumption that you will be running this code in the tutorial directory. If you already created one using the instructions from the GitHub repo front page, you may skip this step."
   ]
  },
  {
   "cell_type": "markdown",
   "metadata": {},
   "source": [
    "`conda env create -f ../environment.yml -n multi_omics_pdd_fl`"
   ]
  },
  {
   "cell_type": "markdown",
   "metadata": {},
   "source": [
    "All of the further tutorial will be based on this conda environment multi_omics_pdd_fl. To activate it on terminal, you can run:\n",
    "\n",
    "conda activate multi_omics_pdd_fl"
   ]
  },
  {
   "cell_type": "markdown",
   "metadata": {},
   "source": [
    "If you are using Jupyter Lab, VS Code, or other IDEs, there will be a way to select your conda environment within your IDE."
   ]
  },
  {
   "cell_type": "markdown",
   "metadata": {},
   "source": [
    "After you activate a conda environment, we can use the setup.py file."
   ]
  },
  {
   "cell_type": "code",
   "execution_count": 2,
   "metadata": {},
   "outputs": [
    {
     "name": "stdout",
     "output_type": "stream",
     "text": [
      "Obtaining file:///Users/leesup/git/multi-omics-pdd-FL-study\n",
      "  Preparing metadata (setup.py) ... \u001b[?25ldone\n",
      "\u001b[?25hInstalling collected packages: federated-learning-multi-modality-ancestry\n",
      "  Running setup.py develop for federated-learning-multi-modality-ancestry\n",
      "Successfully installed federated-learning-multi-modality-ancestry-0.1.0\n"
     ]
    }
   ],
   "source": [
    "! pip install -e ../../"
   ]
  },
  {
   "cell_type": "markdown",
   "metadata": {},
   "source": [
    "In the next tutorial notebook, we will see how the rest of the GitHub repo are structured and where the code Python files are stored."
   ]
  }
 ],
 "metadata": {
  "kernelspec": {
   "display_name": "base",
   "language": "python",
   "name": "python3"
  },
  "language_info": {
   "codemirror_mode": {
    "name": "ipython",
    "version": 3
   },
   "file_extension": ".py",
   "mimetype": "text/x-python",
   "name": "python",
   "nbconvert_exporter": "python",
   "pygments_lexer": "ipython3",
   "version": "3.10.12"
  },
  "orig_nbformat": 4
 },
 "nbformat": 4,
 "nbformat_minor": 2
}
