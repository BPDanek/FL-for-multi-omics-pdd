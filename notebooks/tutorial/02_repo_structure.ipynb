{
 "cells": [
  {
   "cell_type": "markdown",
   "metadata": {},
   "source": [
    "### Tutorial 02 - GitHub Repository Structure"
   ]
  },
  {
   "cell_type": "markdown",
   "metadata": {},
   "source": [
    "In this tutorial notebook, we will examine how the GitHub repository is structured so that you can easily find the scripts if you want to make any changes in the future.\n",
    "\n",
    "NOTE: Activate conda environment by either running \"conda activate multi_omics_pdd_fl\" on the terminal or using IDE's environment selection."
   ]
  },
  {
   "cell_type": "code",
   "execution_count": null,
   "metadata": {},
   "outputs": [],
   "source": [
    "! ls ../../"
   ]
  },
  {
   "cell_type": "markdown",
   "metadata": {},
   "source": [
    "Let us first look at the data directory."
   ]
  },
  {
   "cell_type": "code",
   "execution_count": null,
   "metadata": {},
   "outputs": [],
   "source": [
    "! ls ../../data"
   ]
  },
  {
   "cell_type": "markdown",
   "metadata": {},
   "source": [
    "The data directory includes two directories (Combined_G1E5_O1E2 and Validation) with data files inside that our group used for the experiment and analysis in the preprint. As mentioned on the front page of the GitHub repository, these files can be produced by reproducing the processing approach from:\n",
    "\n",
    "```\n",
    "Makarious, M.B., Leonard, H.L., Vitale, D. et al. Multi-modality machine learning predicting Parkinson’s disease. npj Parkinsons Dis. 8, 35 (2022). https://doi.org/10.1038/s41531-022-00288-w\n",
    "```\n",
    "\n",
    "Available publicly at: https://github.com/GenoML/GenoML_multimodal_PD/\n"
   ]
  },
  {
   "cell_type": "code",
   "execution_count": null,
   "metadata": {},
   "outputs": [],
   "source": [
    "! ls ../../data/Combined_G1E5_O1E2"
   ]
  },
  {
   "cell_type": "code",
   "execution_count": null,
   "metadata": {},
   "outputs": [],
   "source": [
    "! ls ../../data/Validation"
   ]
  },
  {
   "cell_type": "markdown",
   "metadata": {},
   "source": [
    "We will walk through federated_learning_multi_modality_ancestry/multi_modality_fl directory to see where all the Python scripts for running the experiment are located."
   ]
  },
  {
   "cell_type": "code",
   "execution_count": null,
   "metadata": {},
   "outputs": [],
   "source": [
    "! ls ../../federated_learning_multi_modality_ancestry"
   ]
  },
  {
   "cell_type": "code",
   "execution_count": null,
   "metadata": {},
   "outputs": [],
   "source": [
    "! ls ../../federated_learning_multi_modality_ancestry/multi_modality_fl"
   ]
  },
  {
   "cell_type": "code",
   "execution_count": null,
   "metadata": {},
   "outputs": [],
   "source": [
    "! ls ../../federated_learning_multi_modality_ancestry/multi_modality_fl/experiment_runner"
   ]
  },
  {
   "cell_type": "markdown",
   "metadata": {},
   "source": [
    "The Python file run_experiments.py is a wrapper file to run the experiment. If you examine this wrapper file using the terminal or IDE of your choice, you can see that it imports from utils and experiments_code."
   ]
  },
  {
   "cell_type": "code",
   "execution_count": null,
   "metadata": {},
   "outputs": [],
   "source": [
    "! ls ../../federated_learning_multi_modality_ancestry/multi_modality_fl/utils"
   ]
  },
  {
   "cell_type": "code",
   "execution_count": null,
   "metadata": {},
   "outputs": [],
   "source": [
    "! ls ../../federated_learning_multi_modality_ancestry/multi_modality_fl/experiments_code"
   ]
  },
  {
   "cell_type": "markdown",
   "metadata": {},
   "source": [
    "Feel free to examine the individual Python scripts in these directories to learn more about how the code is set up. We will go to the next tutorial and perform federated learning using the wrapper file run_experiments.py."
   ]
  }
 ],
 "metadata": {
  "kernelspec": {
   "display_name": "base",
   "language": "python",
   "name": "python3"
  },
  "language_info": {
   "codemirror_mode": {
    "name": "ipython",
    "version": 3
   },
   "file_extension": ".py",
   "mimetype": "text/x-python",
   "name": "python",
   "nbconvert_exporter": "python",
   "pygments_lexer": "ipython3",
   "version": "3.10.12"
  },
  "orig_nbformat": 4
 },
 "nbformat": 4,
 "nbformat_minor": 2
}
